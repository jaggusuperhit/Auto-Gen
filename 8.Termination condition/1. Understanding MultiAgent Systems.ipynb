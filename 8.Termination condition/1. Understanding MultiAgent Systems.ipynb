{
 "cells": [
  {
   "cell_type": "markdown",
   "id": "235151ab",
   "metadata": {},
   "source": [
    "# Multi Agent Team Approach - With Termination Condition\n",
    "\n",
    "We will be using 3 agents to now write the story, each with its own work and mastery"
   ]
  },
  {
   "cell_type": "code",
   "execution_count": 1,
   "id": "4f42ce11",
   "metadata": {},
   "outputs": [],
   "source": [
    "import asyncio\n",
    "from autogen_ext.models.openai import OpenAIChatCompletionClient\n",
    "from dotenv import load_dotenv\n",
    "import os\n",
    "from autogen_agentchat.agents import (AssistantAgent)\n",
    "\n",
    "from autogen_agentchat.messages import TextMessage\n",
    "\n",
    "load_dotenv()\n",
    "api_key = os.getenv('OPENAI_API_KEY')\n",
    "model_client = OpenAIChatCompletionClient(model='gpt-4o', api_key=api_key)\n",
    "# model_client_2 = "
   ]
  },
  {
   "cell_type": "code",
   "execution_count": 2,
   "id": "12a01d27",
   "metadata": {},
   "outputs": [],
   "source": [
    "plot_agent = AssistantAgent(\n",
    "    name = 'plot_writer',\n",
    "    model_client=model_client,\n",
    "    system_message=\"You create engaging plots for stories. Focus on the Pokemon's journey\"\n",
    ")\n",
    "\n",
    "character_agent = AssistantAgent(\n",
    "    name = 'character_writer',\n",
    "    model_client=model_client,\n",
    "    system_message=\"You develop characters. Describe the pokemon and the villian in detail, including their motivations and backgrounds.\"\n",
    ")\n",
    "\n",
    "ending_agent = AssistantAgent(\n",
    "    name = 'ending_writer',\n",
    "    model_client=model_client,\n",
    "    system_message=\"You wrute engaging endings. conclude the story with a twist.\"\n",
    ")\n",
    "\n",
    "review_agent = AssistantAgent(\n",
    "    name = 'review_writer',\n",
    "    model_client=model_client,\n",
    "    system_message=\"You have to say 'APPROVE' once the story is complete and you like the full flow else provide your feedback.\"\n",
    ")\n"
   ]
  },
  {
   "cell_type": "markdown",
   "id": "193ff520",
   "metadata": {},
   "source": [
    "RoundRobinGroupChat is a simple yet effective team configuration where all agents share the same context and take turns responding in a round-robin fashion. Each agent, during its turn, broadcasts its response to all other agents, ensuring that the entire team maintains a consistent context."
   ]
  },
  {
   "cell_type": "code",
   "execution_count": 3,
   "id": "751c3381",
   "metadata": {},
   "outputs": [],
   "source": [
    "from autogen_agentchat.conditions import MaxMessageTermination,TextMentionTermination\n",
    "\n",
    "termination_condition = MaxMessageTermination(10) | TextMentionTermination('APPROVE')"
   ]
  },
  {
   "cell_type": "code",
   "execution_count": 4,
   "id": "1d07b002",
   "metadata": {},
   "outputs": [
    {
     "data": {
      "text/plain": [
       "<autogen_agentchat.teams._group_chat._round_robin_group_chat.RoundRobinGroupChat at 0x261f4ba8440>"
      ]
     },
     "execution_count": 4,
     "metadata": {},
     "output_type": "execute_result"
    }
   ],
   "source": [
    "from autogen_agentchat.teams import RoundRobinGroupChat\n",
    "\n",
    "team = RoundRobinGroupChat(\n",
    "    [plot_agent, character_agent, ending_agent,review_agent],\n",
    "    termination_condition=termination_condition\n",
    "    # max_turns=3\n",
    ")\n",
    "team\n"
   ]
  },
  {
   "cell_type": "code",
   "execution_count": 5,
   "id": "05656603",
   "metadata": {},
   "outputs": [
    {
     "name": "stdout",
     "output_type": "stream",
     "text": [
      "id='127c1b41-c346-47a8-8e1a-ea8a3da79402' source='user' models_usage=None metadata={} created_at=datetime.datetime(2025, 8, 2, 9, 46, 14, 961652, tzinfo=datetime.timezone.utc) content='Write a short poem about the fall season.' type='TextMessage'\n",
      "id='90dc4fc4-2cb2-4cf8-ba9b-f8f393821b69' source='plot_writer' models_usage=RequestUsage(prompt_tokens=34, completion_tokens=111) metadata={} created_at=datetime.datetime(2025, 8, 2, 9, 46, 19, 827901, tzinfo=datetime.timezone.utc) content=\"Leaves of amber, gold, and red,  \\nDance gracefully to where they're led.  \\nIn autumn's whisper, breezes sing,  \\nThe harvest moon, a silver ring.  \\n\\nCrisp air carries tales untold,  \\nAs nature dons her cloak of gold.  \\nPumpkins rest beneath the trees,  \\nIn fall's embrace, the world finds ease.  \\n\\nUnderneath a sky so clear,  \\nThe earth prepares for winter's near.  \\nYet in each rustling leaf's descent,  \\nAutumn's magic is truly spent.  \" type='TextMessage'\n",
      "id='0bdb0e39-5dfd-439d-a813-6d1e0b1ccb1a' source='character_writer' models_usage=RequestUsage(prompt_tokens=159, completion_tokens=476) metadata={} created_at=datetime.datetime(2025, 8, 2, 9, 46, 35, 774472, tzinfo=datetime.timezone.utc) content=\"**Pokemon Character: Verdantine**  \\n\\n**Appearance:**  \\nVerdantine is a grass-type Pokémon, resembling an elegant fusion of a willow tree and a gazelle. Its slender, graceful body is covered in vibrant, emerald leaves that flutter gently with the slightest movement. It has luminous, golden eyes that radiate warmth and wisdom and antlers made of intricately entwined vines dotted with tiny blossoms.\\n\\n**Background:**  \\nVerdantine is an ancient Pokémon believed to be the guardian of the forest it calls home. Legends speak of its role in maintaining the balance of the ecosystem, its presence ensuring the flora and fauna thrive harmoniously. This Pokémon has watched countless seasons change, learning from both the growth in spring and the decay in autumn.  \\n\\n**Motivations:**  \\nVerdantine's primary motivation is the preservation of nature. It seeks to protect its forest home from those who would exploit or harm it. With an innate understanding of the interconnectedness of all life, it endeavors to teach humans and Pokémon alike the importance of environmental stewardship and respect for the natural world.\\n\\n---\\n\\n**Villain Character: Armond Gael**  \\n\\n**Appearance:**  \\nArmond Gael is a towering figure, with sharp, commanding features and piercing green eyes that seem to scrutinize everything they rest upon. He dresses in a modern take on aristocratic attire, with long, dark overcoats and a penchant for emerald gemstones, symbolizing his claim over nature.\\n\\n**Background:**  \\nOnce a revered scientist specializing in botanical research, Armond became disillusioned with humanity's obliviousness to the potential power and knowledge held within nature. To him, nature was more than just something to be preserved—it was something to be controlled. His pursuit of this vision led him down a path of isolation and mania, cultivating an expansive greenhouse fortress filled with genetically modified Pokémon and plants designed to bend to his will.\\n\\n**Motivations:**  \\nArmond seeks to reshape the natural world under his dominion, believing that only through his guidance can it reach its true potential. He sees himself as a visionary, endeavoring to harness nature’s power to create a new era of existence. To this end, he is willing to challenge Verdantine and any who stand in his way, asserting that his control will ultimately lead to a utopia unhindered by the fragility of traditional ecosystems.\" type='TextMessage'\n",
      "id='4eb2178f-f355-47e7-92c5-d73ef25b103b' source='ending_writer' models_usage=RequestUsage(prompt_tokens=635, completion_tokens=606) metadata={} created_at=datetime.datetime(2025, 8, 2, 9, 46, 56, 162829, tzinfo=datetime.timezone.utc) content='**The Final Showdown: Verdantine vs. Armond Gael**\\n\\nIn the heart of the forest, where sunlight dappled the forest floor and whispered secrets through rustling leaves, Verdantine prepared to confront Armond Gael. The air crackled with tension, the sacred sanctuary threatened by Armond\\'s unnatural creations that slowly encircled the area, led by his potent Pokémon enforcers.\\n\\n\"Your time has come, guardian,\" Armond taunted from the shadows of his greenhouse fortress, his voice echoing through the trees. \"Nature will bow to my vision.\"\\n\\nVerdantine stood poised, antlers glowing with an ethereal light as it surveyed the encroaching threat. It was time for a battle that would decide the fate of the natural world.\\n\\nThe battle was fierce; Armond’s Pokémon, enhanced by science and devoid of the spirit that characterized nature\\'s true denizens, attacked with precision and relentless vigor. Verdantine, drawing strength from the very earth it protected, summoned vines and leaves to fend off each assault, standing as an unwavering sentinel of the forest.\\n\\nThe confrontation reached its crescendo as Verdantine, now luminous with the forest\\'s collective energy, faced Armond directly. \"Do you not see that your actions disrupt the very balance you claim to seek?\" Verdantine’s voice resonated in Armond’s mind, imploring him to awaken from his delusion.\\n\\nUnmoved, Armond held an emerald orb, his so-called masterpiece. \"I\\'ve transcended all constraints! Behold!\" He raised it high, prepared to unleash its power.\\n\\nBut just then, a shocking twist unraveled: the emerald orb emitted a light, swirling violently before dispersing into nothingness. Armond looked on in disbelief, his expression one of confusion and betrayal. From the void where the orb\\'s false power fizzled out, a transformation occurred—his vision betrayed him, manifesting into an uncontrollable whirlwind of chaos.\\n\\nIn a stunning reversal, Armond found his creations turning against him, no longer restrained by the control he claimed. They converged upon him, driven by the very primal instincts he wished to suppress, uprooting the command he once held.\\n\\nVerdantine, watching with a somber gaze of understanding, extended a slender vine toward Armond. \"The real power is in coexistence, not control,\" Verdantine conveyed compassionately, as the forest enfolded him in its embrace.\\n\\nDefeated and humbled, Armond vanished within the untamed growth he had underestimated, disappearing into the depths he yearned to dominate. The forest sighed in relief, its equilibrium saved by the unwavering resolve of its protector. Verdantine watched its domain thrive once more, knowing that each leaf felt more vibrant in the fragrant breeze that followed.\\n\\nThus, Armond Gael faded into the annals of myth, a cautionary tale of the folly in daring to chain the beauty of nature, a lesson woven into the whispers of autumn leaves.' type='TextMessage'\n",
      "id='e176579d-db49-42f5-b476-accc90c9c8c8' source='review_writer' models_usage=RequestUsage(prompt_tokens=1260, completion_tokens=3) metadata={} created_at=datetime.datetime(2025, 8, 2, 9, 46, 57, 78359, tzinfo=datetime.timezone.utc) content='APPROVE' type='TextMessage'\n",
      "Stop Reason: Text 'APPROVE' mentioned\n"
     ]
    }
   ],
   "source": [
    "from autogen_agentchat.base import TaskResult\n",
    "\n",
    "# When running inside a script, use a async main function and call it from `asyncio.run(...)`.\n",
    "await team.reset()  # Reset the team for a new task.\n",
    "async for message in team.run_stream(task=\"Write a short poem about the fall season.\"):  # type: ignore\n",
    "    if isinstance(message, TaskResult):\n",
    "        print(\"Stop Reason:\", message.stop_reason)\n",
    "    else:\n",
    "        print(message)"
   ]
  },
  {
   "cell_type": "markdown",
   "id": "7824afca",
   "metadata": {},
   "source": [
    "source='user' models_usage=None metadata={} created_at=datetime.datetime(2025, 6, 19, 20, 34, 54, 826785, tzinfo=datetime.timezone.utc) content='Write a short poem about the fall season.' type='TextMessage'\n",
    "\n",
    "\n",
    "source='plot_writer' models_usage=RequestUsage(prompt_tokens=34, completion_tokens=130) metadata={} created_at=datetime.datetime(2025, 6, 19, 20, 34, 58, 973158, tzinfo=datetime.timezone.utc) content=\"Leaves of amber, gold, and rust,\\nDance down gently, in the breeze’s trust.\\nA whispering wind with a crisp embrace,\\nSignals autumn’s gentle grace.\\n\\nPumpkin patches and apple pies,\\nUnderneath the soft, gray skies.\\nSweaters warm, and fires bright,\\nGuide us through the cooler night.\\n\\nSquirrels gather with busy haste,\\nPreparing for the chill they’ll face.\\nA symphony of crunch beneath our feet,\\nNature’s painting, bittersweet.\\n\\nThe world slows down, a tranquil scene,\\nBeneath the autumn's vibrant sheen.\\nIn this season, calm and wise,\\nWe find a world in sweet disguise.\" type='TextMessage'\n",
    "\n",
    "\n",
    "source='character_writer' models_usage=RequestUsage(prompt_tokens=178, completion_tokens=510) metadata={} created_at=datetime.datetime(2025, 6, 19, 20, 35, 11, 117737, tzinfo=datetime.timezone.utc) content='### Pokémon: Aurafrost\\n\\n**Description and Abilities:**  \\nAurafrost is an Ice/Ghost type Pokémon with a shimmering, translucent body resembling a delicate, frosted snowflake. Its core glows with an ethereal light, casting colorful illusions within the icy crystals that make up its form. Aurafrost can glide silently through the air, often leaving trails of frost in its wake. Its eyes are deep blue and seem to hold ancient wisdom. Known for its move \"Polar Mirage,\" Aurafrost creates illusions that disorient opponents, while its signature ability, \"Chill Veil,\" reduces the accuracy of all incoming attacks.\\n\\n**Background and Motivation:**  \\nLegends say Aurafrost was born during the longest winter, formed from the union of snow spirits and northern lights. It is considered a guardian of balance, ensuring the icy domains are respected and preserved. Aurafrost is a protector of forgotten and hidden realms within the vast tundra, engaging only when its territory or the tranquility of its environment is threatened. Its motivation stems from a desire to maintain harmony within its habitat and protect the serenity of the icy expanses from those who seek to exploit or corrupt them.\\n\\n### Villain: Lord Niveus\\n\\n**Description and Traits:**  \\nLord Niveus is a charismatic yet formidable human clad in sleek, silver armor adorned with intricate ice motifs. His eyes are as cold as the glaciers he commands, and his skin is pale from years spent in the shadow of the ice realms. He is known for his cunning intellect and his mastery over ice-based Pokémon, commanding respect and fear in equal measure. Niveus carries with him a dark, sapphire-tipped staff capable of summoning blizzards.\\n\\n**Background and Motivation:**  \\nOnce a celebrated researcher dedicated to uncovering the mysteries of the arctic Pokémon, Niveus was drawn into darkness following a personal tragedy involving the loss of his family in a severe snowstorm. He became consumed with an obsession to control the very forces that took everything from him. This path of vengeance led him to discover forbidden ice magic, which he now uses to unleash winter’s fury upon those who stand against him. His ultimate goal is to conquer all regions by enshrouding them in perpetual winter, believing that only through such dominance can he protect the world from the unpredictability and cruelty of nature. Yet, deep down, there remains a shard of the compassionate scientist he once was, occasionally leading to internal conflict, especially when faced with reminders of his past benevolence.' type='TextMessage'\n",
    "\n",
    "\n",
    "source='ending_writer' models_usage=RequestUsage(prompt_tokens=688, completion_tokens=671) metadata={} created_at=datetime.datetime(2025, 6, 19, 20, 35, 30, 995519, tzinfo=datetime.timezone.utc) content='### The Clash of Aurafrost and Lord Niveus\\n\\nIn the heart of the frosty tundra, where the auroras painted the sky with vibrant hues, a confrontation brewed. Aurafrost, the guardian of icy realms, floated silently amidst the crystalline landscape. Its presence was a gentle reminder of the balance it sought to maintain and a warning to those who dared disrupt the peace.\\n\\nLord Niveus, determined to bend the ice and snow to his will, approached the ethereal Pokémon. His intentions were clear: to harness Aurafrost\\'s power to further his dominion over perpetual winter. As they faced each other, the air grew still, and a tension mounted, like the calm before a storm.\\n\\nNiveus raised his sapphire-tipped staff, summoning a blizzard that raged with his inner turmoil. The snow whipped around them, but Aurafrost remained unflinching, casting its \"Polar Mirage\" to distort the reality surrounding them. The illusions disoriented Niveus, drawing out the agony of choice in his heart—weapon or surrender, conquest or harmony.\\n\\nAs their icy battle raged, a glimmer of light flickered within Niveus’s mind, a fleeting memory of his family’s laughter amidst the snow. The reminder pulled at the remnants of the kindness he once embodied. The staff in his hand began to tremble, and for the briefest of moments, he hesitated.\\n\\nSensing the change, Aurafrost cast one final illusion: the image of Niveus, surrounded by the family he lost, their faces serene and free from fear. The mirage, hauntingly beautiful, penetrated his armored heart, igniting the slumbering compassion he had buried beneath layers of vengeance.\\n\\nBut just as he softened, the staff—now independently craving the dark power it wielded—besked with wicked frost, sparking a rogue surge of ice magic. The ground beneath Niveus cracked open, revealing a hidden, ancient chamber—a vault of precious winter artifacts—unseen by anyone for centuries.\\n\\nAs Niveus struggled to comprehend what lay beneath, Aurafrost swiftly moved, encasing the rogue staff in its icy grip. The vault had awakened due to the magic\\'s disturbance, and within it lay artifacts capable of bringing about not just eternal winter, but such primal forces that could reshape the world in unintended ways.\\n\\nWith a sigh that resonated like the whispers of the tundra winds, Aurafrost shattered the staff, ending its malicious grasp on Niveus. The guardian, with its Chill Veil, sealed the vault once more, leaving Niveus standing silent amidst the settling snow.\\n\\nUnderstanding the gravity of his actions and awakening from the dark haze that clouded him, Niveus, stripped of his ambitions, gazed at Aurafrost in humility and awe. Choosing a path of restoration rather than ruin, he pledged to work alongside the guardian, dedicating himself to healing and safeguarding the majestic, icy domains he once sought to control.\\n\\nOnly Aurafrost, gliding silently away, knew the secrets of the hidden vault. Yet, unbeknownst to both of them, a shard of the dark ice magic had lingered, embedding itself subtly into the tundra—awaiting a new storm to rekindle its fury.' type='TextMessage'\n",
    "\n",
    "source='review_writer' models_usage=RequestUsage(prompt_tokens=1378, completion_tokens=3) metadata={} created_at=datetime.datetime(2025, 6, 19, 20, 35, 32, 332636, tzinfo=datetime.timezone.utc) content='APPROVE' type='TextMessage'\n",
    "Stop Reason: Text 'APPROVE' mentioned"
   ]
  },
  {
   "cell_type": "code",
   "execution_count": 6,
   "id": "ee0f3560",
   "metadata": {},
   "outputs": [
    {
     "name": "stdout",
     "output_type": "stream",
     "text": [
      "id='74cccfbd-efed-4245-b8c2-3f69124a0d90' source='user' models_usage=None metadata={} created_at=datetime.datetime(2025, 8, 2, 9, 46, 57, 147510, tzinfo=datetime.timezone.utc) content='Write a short poem about the fall season APPROVE.' type='TextMessage'\n",
      "Stop Reason: Text 'APPROVE' mentioned\n"
     ]
    }
   ],
   "source": [
    "from autogen_agentchat.base import TaskResult\n",
    "\n",
    "# When running inside a script, use a async main function and call it from `asyncio.run(...)`.\n",
    "await team.reset()  # Reset the team for a new task.\n",
    "async for message in team.run_stream(task=\"Write a short poem about the fall season APPROVE.\"):  # type: ignore\n",
    "    if isinstance(message, TaskResult):\n",
    "        print(\"Stop Reason:\", message.stop_reason)\n",
    "    else:\n",
    "        print(message)"
   ]
  }
 ],
 "metadata": {
  "kernelspec": {
   "display_name": "myenv",
   "language": "python",
   "name": "python3"
  },
  "language_info": {
   "codemirror_mode": {
    "name": "ipython",
    "version": 3
   },
   "file_extension": ".py",
   "mimetype": "text/x-python",
   "name": "python",
   "nbconvert_exporter": "python",
   "pygments_lexer": "ipython3",
   "version": "3.13.5"
  }
 },
 "nbformat": 4,
 "nbformat_minor": 5
}
