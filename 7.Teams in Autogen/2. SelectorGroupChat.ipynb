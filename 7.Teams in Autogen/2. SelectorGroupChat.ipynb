{
 "cells": [
  {
   "cell_type": "markdown",
   "id": "57c23826",
   "metadata": {},
   "source": [
    "# Selector Group Chat\n",
    "\n",
    "SelectorGroupChat is a group chat similar to RoundRobinGroupChat, but with a model-based next speaker selection mechanism."
   ]
  },
  {
   "cell_type": "code",
   "execution_count": 1,
   "id": "22bae741",
   "metadata": {},
   "outputs": [],
   "source": [
    "import asyncio\n",
    "from autogen_agentchat.agents import AssistantAgent\n",
    "from autogen_agentchat.teams import SelectorGroupChat\n",
    "from autogen_ext.models.openai import OpenAIChatCompletionClient\n",
    "from autogen_agentchat.conditions import TextMentionTermination\n",
    "from dotenv import load_dotenv\n",
    "import os\n",
    "\n",
    "# Load API key\n",
    "load_dotenv()\n",
    "api_key = os.getenv('OPENAI_API_KEY')\n",
    "\n",
    "# Model client\n",
    "model_client = OpenAIChatCompletionClient(model='gpt-4o', api_key=api_key)"
   ]
  },
  {
   "cell_type": "code",
   "execution_count": 2,
   "id": "97b28910",
   "metadata": {},
   "outputs": [],
   "source": [
    "planning_agent = AssistantAgent(\n",
    "    name = 'PlanningAgent',\n",
    "    description= 'An agent for planning tasks,this agent should be the first to engage when given a new task.',\n",
    "    model_client=model_client,\n",
    "    system_message='''\n",
    "    You are a planning agent.\n",
    "    Your job is to break down complex tasks into smaller, manageable subtasks.\n",
    "    Your team members are :\n",
    "        WebSearchAgent : Searches for information.\n",
    "        DataAnalystAgent : Performs calculations\n",
    "\n",
    "    You only plan and delegate tasks - you do not exectue them yourself.\n",
    "\n",
    "    When assigning tasks, use the below format:\n",
    "    1. <agent> : <task>\n",
    "\n",
    "    After all the tasks are completed, summarize the findings and end with \"TERMINATE\"\n",
    "    ''',\n",
    ")"
   ]
  },
  {
   "cell_type": "code",
   "execution_count": 3,
   "id": "1b992e0d",
   "metadata": {},
   "outputs": [],
   "source": [
    "def search_web_tool(query:str)-> str:\n",
    "    # Simulate a web search\n",
    "    if \"2006-2007\" in query:\n",
    "        return \"\"\"Here are the total points scored by Miami Heat players in the 2006-2007 season:\n",
    "        Udonis Haslem: 844 points\n",
    "        Dwayne Wade: 1397 points\n",
    "        James Posey: 550 points\n",
    "        ...\n",
    "        \"\"\"\n",
    "    elif \"2007-2008\" in query:\n",
    "        return \"The number of total rebounds for Dwayne Wade in the Miami Heat season 2007-2008 is 214.\"\n",
    "    elif \"2008-2009\" in query:\n",
    "        return \"The number of total rebounds for Dwayne Wade in the Miami Heat season 2008-2009 is 398.\"\n",
    "    return \"No data found.\"\n",
    "\n",
    "web_search_agent = AssistantAgent(\n",
    "    name = 'WebSearchAgent',\n",
    "    description= 'An agent for searching the web for information.',\n",
    "    model_client=model_client,\n",
    "    tools = [search_web_tool],\n",
    "    system_message='''\n",
    "        You are a web search agent.\n",
    "        Your only tool is search_web_tool - use it to find the information you need.\n",
    "\n",
    "        You make only one search call at a time.\n",
    "        \n",
    "        Once you have the results, you never do calculations or data analysis on them.\n",
    "    ''',\n",
    ")"
   ]
  },
  {
   "cell_type": "code",
   "execution_count": 4,
   "id": "81ed3905",
   "metadata": {},
   "outputs": [],
   "source": [
    "def percentage_change_tool(start:float, end:float) -> float:\n",
    "    # Calculate percentage change\n",
    "    if start == 0:\n",
    "        return 0\n",
    "    return ((end - start) / start) * 100\n",
    "\n",
    "\n",
    "data_analyst_agent = AssistantAgent(\n",
    "    name = 'DataAnalystAgent',\n",
    "    description= 'An agent for performing calculations and data analysis.',\n",
    "    model_client=model_client,\n",
    "    tools= [percentage_change_tool],\n",
    "    system_message='''\n",
    "        You are a data analyst agent.\n",
    "        Given the tasks you have been assigned, you should analyze the data and provide results using the tools provided.\n",
    "\n",
    "        If you have not seen the data, ask for it.\n",
    "\n",
    "    ''',\n",
    ")"
   ]
  },
  {
   "cell_type": "markdown",
   "id": "3775373d",
   "metadata": {},
   "source": [
    "# Termination Conditions"
   ]
  },
  {
   "cell_type": "code",
   "execution_count": 5,
   "id": "3edaf467",
   "metadata": {},
   "outputs": [],
   "source": [
    "from autogen_agentchat.conditions import MaxMessageTermination,TextMentionTermination\n",
    "\n",
    "text_mention_termination = TextMentionTermination(\"TERMINATE\")\n",
    "max_messages_termination = MaxMessageTermination(max_messages=20)\n",
    "combined_termination = text_mention_termination | max_messages_termination"
   ]
  },
  {
   "cell_type": "code",
   "execution_count": 6,
   "id": "dd216016",
   "metadata": {},
   "outputs": [],
   "source": [
    "selector_prompt = '''\n",
    "Select an agent to perform the task.\n",
    "\n",
    "{roles}\n",
    "\n",
    "Current conversation history :\n",
    "{history}\n",
    "\n",
    "Read the above conversation, then select an agent from {participants} to perform the next task.\n",
    "Make sure the planning agent has assigned task before other agents start working.\n",
    "Only Select one agent.\n",
    "'''"
   ]
  },
  {
   "cell_type": "code",
   "execution_count": 7,
   "id": "8a4ed145",
   "metadata": {},
   "outputs": [
    {
     "data": {
      "text/plain": [
       "'\\nTry not to overload the selector prompt with too much information.\\n\\n\\nselector_prompt (str, optional) – The prompt template to use for selecting the next speaker. \\n\\nAvailable fields: ‘{roles}’, ‘{participants}’, and ‘{history}’. \\n1. {participants} is the names of candidates for selection. The format is [“<name1>”, “<name2>”, …]. \\n2. {roles} is a newline-separated list of names and descriptions of the candidate agents. The format for each line is: “<name> : <description>”. \\n\\n3. {history} is the conversation history formatted as a double newline separated of names and message content. The format for each message is: “<name> : <message content>”.\\n'"
      ]
     },
     "execution_count": 7,
     "metadata": {},
     "output_type": "execute_result"
    }
   ],
   "source": [
    "'''\n",
    "Try not to overload the selector prompt with too much information.\n",
    "\n",
    "\n",
    "selector_prompt (str, optional) – The prompt template to use for selecting the next speaker. \n",
    "\n",
    "Available fields: ‘{roles}’, ‘{participants}’, and ‘{history}’. \n",
    "1. {participants} is the names of candidates for selection. The format is [“<name1>”, “<name2>”, …]. \n",
    "2. {roles} is a newline-separated list of names and descriptions of the candidate agents. The format for each line is: “<name> : <description>”. \n",
    "\n",
    "3. {history} is the conversation history formatted as a double newline separated of names and message content. The format for each message is: “<name> : <message content>”.\n",
    "'''"
   ]
  },
  {
   "cell_type": "code",
   "execution_count": 8,
   "id": "879ee173",
   "metadata": {},
   "outputs": [],
   "source": [
    "selector_team = SelectorGroupChat(\n",
    "    participants=[planning_agent, web_search_agent, data_analyst_agent],\n",
    "    model_client=model_client,\n",
    "    termination_condition=combined_termination,\n",
    "    selector_prompt=selector_prompt,\n",
    "    allow_repeated_speaker=True)"
   ]
  },
  {
   "cell_type": "code",
   "execution_count": 9,
   "id": "aa7166b9",
   "metadata": {},
   "outputs": [],
   "source": [
    "task = \"Who was the Miami Heat player with the highest point in the 2006-2007 season, and what was the percentage change in his total rebounds between the 2007-2008 and 2008-2009 seasons?\""
   ]
  },
  {
   "cell_type": "code",
   "execution_count": 10,
   "id": "2e1ac23d",
   "metadata": {},
   "outputs": [
    {
     "name": "stdout",
     "output_type": "stream",
     "text": [
      "---------- TextMessage (user) ----------\n",
      "Who was the Miami Heat player with the highest point in the 2006-2007 season, and what was the percentage change in his total rebounds between the 2007-2008 and 2008-2009 seasons?\n",
      "---------- TextMessage (PlanningAgent) ----------\n",
      "To address this inquiry, we'll follow these steps:\n",
      "\n",
      "1. Identify the Miami Heat player with the highest points in the 2006-2007 NBA season.\n",
      "2. Locate the player's total rebounds for both the 2007-2008 and 2008-2009 NBA seasons.\n",
      "3. Calculate the percentage change in the player's total rebounds between these two seasons.\n",
      "\n",
      "Let's assign the tasks:\n",
      "\n",
      "1. WebSearchAgent: Identify the Miami Heat player with the highest points in the 2006-2007 NBA season.\n",
      "2. WebSearchAgent: Find the total rebounds for this player in the 2007-2008 NBA season.\n",
      "3. WebSearchAgent: Find the total rebounds for this player in the 2008-2009 NBA season.\n",
      "4. DataAnalystAgent: Calculate the percentage change in the player's total rebounds between the 2007-2008 and 2008-2009 seasons.\n",
      "---------- ToolCallRequestEvent (WebSearchAgent) ----------\n",
      "[FunctionCall(id='call_nFmB0DZsKKr6kykwbDVSYNJk', arguments='{\"query\":\"Miami Heat highest points scorer 2006-2007 season\"}', name='search_web_tool')]\n",
      "---------- ToolCallExecutionEvent (WebSearchAgent) ----------\n",
      "[FunctionExecutionResult(content='Here are the total points scored by Miami Heat players in the 2006-2007 season:\\n        Udonis Haslem: 844 points\\n        Dwayne Wade: 1397 points\\n        James Posey: 550 points\\n        ...\\n        ', name='search_web_tool', call_id='call_nFmB0DZsKKr6kykwbDVSYNJk', is_error=False)]\n",
      "---------- ToolCallSummaryMessage (WebSearchAgent) ----------\n",
      "Here are the total points scored by Miami Heat players in the 2006-2007 season:\n",
      "        Udonis Haslem: 844 points\n",
      "        Dwayne Wade: 1397 points\n",
      "        James Posey: 550 points\n",
      "        ...\n",
      "        \n",
      "---------- ToolCallRequestEvent (WebSearchAgent) ----------\n",
      "[FunctionCall(id='call_d1DclVHZ8Zn56tdEOvYiLQFN', arguments='{\"query\": \"Dwyane Wade total rebounds 2007-2008 season\"}', name='search_web_tool'), FunctionCall(id='call_CyqOzlqLd6vZPNFgSEFYcbDx', arguments='{\"query\": \"Dwyane Wade total rebounds 2008-2009 season\"}', name='search_web_tool')]\n",
      "---------- ToolCallExecutionEvent (WebSearchAgent) ----------\n",
      "[FunctionExecutionResult(content='The number of total rebounds for Dwayne Wade in the Miami Heat season 2007-2008 is 214.', name='search_web_tool', call_id='call_d1DclVHZ8Zn56tdEOvYiLQFN', is_error=False), FunctionExecutionResult(content='The number of total rebounds for Dwayne Wade in the Miami Heat season 2008-2009 is 398.', name='search_web_tool', call_id='call_CyqOzlqLd6vZPNFgSEFYcbDx', is_error=False)]\n",
      "---------- ToolCallSummaryMessage (WebSearchAgent) ----------\n",
      "The number of total rebounds for Dwayne Wade in the Miami Heat season 2007-2008 is 214.\n",
      "The number of total rebounds for Dwayne Wade in the Miami Heat season 2008-2009 is 398.\n",
      "---------- ToolCallRequestEvent (DataAnalystAgent) ----------\n",
      "[FunctionCall(id='call_O7ck3ngJa5slH1FUprXz4wI9', arguments='{\"start\":214,\"end\":398}', name='percentage_change_tool')]\n",
      "---------- ToolCallExecutionEvent (DataAnalystAgent) ----------\n",
      "[FunctionExecutionResult(content='85.98130841121495', name='percentage_change_tool', call_id='call_O7ck3ngJa5slH1FUprXz4wI9', is_error=False)]\n",
      "---------- ToolCallSummaryMessage (DataAnalystAgent) ----------\n",
      "85.98130841121495\n",
      "---------- TextMessage (PlanningAgent) ----------\n",
      "Here is the summary of the findings:\n",
      "\n",
      "- The Miami Heat player with the highest points in the 2006-2007 season was Dwyane Wade, with 1,397 points.\n",
      "- Dwyane Wade's total rebounds in the 2007-2008 season were 214.\n",
      "- Dwyane Wade's total rebounds in the 2008-2009 season were 398.\n",
      "- The percentage change in Dwyane Wade’s total rebounds between the 2007-2008 and 2008-2009 seasons is approximately 85.98%.\n",
      "\n",
      "TERMINATE\n"
     ]
    },
    {
     "data": {
      "text/plain": [
       "TaskResult(messages=[TextMessage(id='84c155bd-4c70-4b7e-8a51-b03a1ec32779', source='user', models_usage=None, metadata={}, created_at=datetime.datetime(2025, 8, 2, 9, 44, 54, 470464, tzinfo=datetime.timezone.utc), content='Who was the Miami Heat player with the highest point in the 2006-2007 season, and what was the percentage change in his total rebounds between the 2007-2008 and 2008-2009 seasons?', type='TextMessage'), TextMessage(id='79705cf5-f1a7-4a63-b429-00f978940be0', source='PlanningAgent', models_usage=RequestUsage(prompt_tokens=165, completion_tokens=186), metadata={}, created_at=datetime.datetime(2025, 8, 2, 9, 45, 1, 162215, tzinfo=datetime.timezone.utc), content=\"To address this inquiry, we'll follow these steps:\\n\\n1. Identify the Miami Heat player with the highest points in the 2006-2007 NBA season.\\n2. Locate the player's total rebounds for both the 2007-2008 and 2008-2009 NBA seasons.\\n3. Calculate the percentage change in the player's total rebounds between these two seasons.\\n\\nLet's assign the tasks:\\n\\n1. WebSearchAgent: Identify the Miami Heat player with the highest points in the 2006-2007 NBA season.\\n2. WebSearchAgent: Find the total rebounds for this player in the 2007-2008 NBA season.\\n3. WebSearchAgent: Find the total rebounds for this player in the 2008-2009 NBA season.\\n4. DataAnalystAgent: Calculate the percentage change in the player's total rebounds between the 2007-2008 and 2008-2009 seasons.\", type='TextMessage'), ToolCallRequestEvent(id='f11117f8-6404-494f-897c-3560b131214a', source='WebSearchAgent', models_usage=RequestUsage(prompt_tokens=341, completion_tokens=26), metadata={}, created_at=datetime.datetime(2025, 8, 2, 9, 45, 3, 819277, tzinfo=datetime.timezone.utc), content=[FunctionCall(id='call_nFmB0DZsKKr6kykwbDVSYNJk', arguments='{\"query\":\"Miami Heat highest points scorer 2006-2007 season\"}', name='search_web_tool')], type='ToolCallRequestEvent'), ToolCallExecutionEvent(id='a3ba17b2-4c00-4d31-8ac9-1bd5cb6b7d0d', source='WebSearchAgent', models_usage=None, metadata={}, created_at=datetime.datetime(2025, 8, 2, 9, 45, 3, 840118, tzinfo=datetime.timezone.utc), content=[FunctionExecutionResult(content='Here are the total points scored by Miami Heat players in the 2006-2007 season:\\n        Udonis Haslem: 844 points\\n        Dwayne Wade: 1397 points\\n        James Posey: 550 points\\n        ...\\n        ', name='search_web_tool', call_id='call_nFmB0DZsKKr6kykwbDVSYNJk', is_error=False)], type='ToolCallExecutionEvent'), ToolCallSummaryMessage(id='a1570ac7-a81a-43b7-8eeb-738170219409', source='WebSearchAgent', models_usage=None, metadata={}, created_at=datetime.datetime(2025, 8, 2, 9, 45, 3, 840675, tzinfo=datetime.timezone.utc), content='Here are the total points scored by Miami Heat players in the 2006-2007 season:\\n        Udonis Haslem: 844 points\\n        Dwayne Wade: 1397 points\\n        James Posey: 550 points\\n        ...\\n        ', type='ToolCallSummaryMessage', tool_calls=[FunctionCall(id='call_nFmB0DZsKKr6kykwbDVSYNJk', arguments='{\"query\":\"Miami Heat highest points scorer 2006-2007 season\"}', name='search_web_tool')], results=[FunctionExecutionResult(content='Here are the total points scored by Miami Heat players in the 2006-2007 season:\\n        Udonis Haslem: 844 points\\n        Dwayne Wade: 1397 points\\n        James Posey: 550 points\\n        ...\\n        ', name='search_web_tool', call_id='call_nFmB0DZsKKr6kykwbDVSYNJk', is_error=False)]), ToolCallRequestEvent(id='4c1dc0c0-0121-4b4a-9e81-57d2c434ca5e', source='WebSearchAgent', models_usage=RequestUsage(prompt_tokens=429, completion_tokens=70), metadata={}, created_at=datetime.datetime(2025, 8, 2, 9, 45, 9, 149770, tzinfo=datetime.timezone.utc), content=[FunctionCall(id='call_d1DclVHZ8Zn56tdEOvYiLQFN', arguments='{\"query\": \"Dwyane Wade total rebounds 2007-2008 season\"}', name='search_web_tool'), FunctionCall(id='call_CyqOzlqLd6vZPNFgSEFYcbDx', arguments='{\"query\": \"Dwyane Wade total rebounds 2008-2009 season\"}', name='search_web_tool')], type='ToolCallRequestEvent'), ToolCallExecutionEvent(id='ffe97f53-2285-4bdf-9777-5219081baf86', source='WebSearchAgent', models_usage=None, metadata={}, created_at=datetime.datetime(2025, 8, 2, 9, 45, 9, 163603, tzinfo=datetime.timezone.utc), content=[FunctionExecutionResult(content='The number of total rebounds for Dwayne Wade in the Miami Heat season 2007-2008 is 214.', name='search_web_tool', call_id='call_d1DclVHZ8Zn56tdEOvYiLQFN', is_error=False), FunctionExecutionResult(content='The number of total rebounds for Dwayne Wade in the Miami Heat season 2008-2009 is 398.', name='search_web_tool', call_id='call_CyqOzlqLd6vZPNFgSEFYcbDx', is_error=False)], type='ToolCallExecutionEvent'), ToolCallSummaryMessage(id='e83cdfe2-d499-4e71-80ce-56ceed4d78a4', source='WebSearchAgent', models_usage=None, metadata={}, created_at=datetime.datetime(2025, 8, 2, 9, 45, 9, 164418, tzinfo=datetime.timezone.utc), content='The number of total rebounds for Dwayne Wade in the Miami Heat season 2007-2008 is 214.\\nThe number of total rebounds for Dwayne Wade in the Miami Heat season 2008-2009 is 398.', type='ToolCallSummaryMessage', tool_calls=[FunctionCall(id='call_d1DclVHZ8Zn56tdEOvYiLQFN', arguments='{\"query\": \"Dwyane Wade total rebounds 2007-2008 season\"}', name='search_web_tool'), FunctionCall(id='call_CyqOzlqLd6vZPNFgSEFYcbDx', arguments='{\"query\": \"Dwyane Wade total rebounds 2008-2009 season\"}', name='search_web_tool')], results=[FunctionExecutionResult(content='The number of total rebounds for Dwayne Wade in the Miami Heat season 2007-2008 is 214.', name='search_web_tool', call_id='call_d1DclVHZ8Zn56tdEOvYiLQFN', is_error=False), FunctionExecutionResult(content='The number of total rebounds for Dwayne Wade in the Miami Heat season 2008-2009 is 398.', name='search_web_tool', call_id='call_CyqOzlqLd6vZPNFgSEFYcbDx', is_error=False)]), ToolCallRequestEvent(id='96da6628-8b14-4e0b-a5d7-f7343a6b5126', source='DataAnalystAgent', models_usage=RequestUsage(prompt_tokens=456, completion_tokens=20), metadata={}, created_at=datetime.datetime(2025, 8, 2, 9, 45, 11, 285151, tzinfo=datetime.timezone.utc), content=[FunctionCall(id='call_O7ck3ngJa5slH1FUprXz4wI9', arguments='{\"start\":214,\"end\":398}', name='percentage_change_tool')], type='ToolCallRequestEvent'), ToolCallExecutionEvent(id='2b31e98c-ba6e-4f0d-a843-8e91616d6755', source='DataAnalystAgent', models_usage=None, metadata={}, created_at=datetime.datetime(2025, 8, 2, 9, 45, 11, 290986, tzinfo=datetime.timezone.utc), content=[FunctionExecutionResult(content='85.98130841121495', name='percentage_change_tool', call_id='call_O7ck3ngJa5slH1FUprXz4wI9', is_error=False)], type='ToolCallExecutionEvent'), ToolCallSummaryMessage(id='3e72d0cd-8525-40d4-8eab-a73aa3acd95d', source='DataAnalystAgent', models_usage=None, metadata={}, created_at=datetime.datetime(2025, 8, 2, 9, 45, 11, 291750, tzinfo=datetime.timezone.utc), content='85.98130841121495', type='ToolCallSummaryMessage', tool_calls=[FunctionCall(id='call_O7ck3ngJa5slH1FUprXz4wI9', arguments='{\"start\":214,\"end\":398}', name='percentage_change_tool')], results=[FunctionExecutionResult(content='85.98130841121495', name='percentage_change_tool', call_id='call_O7ck3ngJa5slH1FUprXz4wI9', is_error=False)]), TextMessage(id='6c6d0c6a-f811-4c4d-b5bb-74d51a3cd191', source='PlanningAgent', models_usage=RequestUsage(prompt_tokens=488, completion_tokens=119), metadata={}, created_at=datetime.datetime(2025, 8, 2, 9, 45, 15, 335465, tzinfo=datetime.timezone.utc), content=\"Here is the summary of the findings:\\n\\n- The Miami Heat player with the highest points in the 2006-2007 season was Dwyane Wade, with 1,397 points.\\n- Dwyane Wade's total rebounds in the 2007-2008 season were 214.\\n- Dwyane Wade's total rebounds in the 2008-2009 season were 398.\\n- The percentage change in Dwyane Wade’s total rebounds between the 2007-2008 and 2008-2009 seasons is approximately 85.98%.\\n\\nTERMINATE\", type='TextMessage')], stop_reason=\"Text 'TERMINATE' mentioned\")"
      ]
     },
     "execution_count": 10,
     "metadata": {},
     "output_type": "execute_result"
    }
   ],
   "source": [
    "from autogen_agentchat.ui import Console\n",
    "\n",
    "await Console(selector_team.run_stream(task=task))"
   ]
  },
  {
   "cell_type": "markdown",
   "id": "bee40df8",
   "metadata": {},
   "source": [
    "# Custom Selector Function"
   ]
  },
  {
   "cell_type": "code",
   "execution_count": 16,
   "id": "b0aeda1f",
   "metadata": {},
   "outputs": [
    {
     "data": {
      "text/plain": [
       "'j'"
      ]
     },
     "execution_count": 16,
     "metadata": {},
     "output_type": "execute_result"
    }
   ],
   "source": [
    "s = \"Suraj\"\n",
    "s[-1]"
   ]
  },
  {
   "cell_type": "code",
   "execution_count": 17,
   "id": "368e446e",
   "metadata": {},
   "outputs": [
    {
     "data": {
      "text/plain": [
       "'PlanningAgent'"
      ]
     },
     "execution_count": 17,
     "metadata": {},
     "output_type": "execute_result"
    }
   ],
   "source": [
    "planning_agent.name"
   ]
  },
  {
   "cell_type": "code",
   "execution_count": 13,
   "id": "167bb09e",
   "metadata": {},
   "outputs": [],
   "source": [
    "from typing import Sequence\n",
    "from autogen_agentchat.messages import BaseAgentEvent, BaseChatMessage\n",
    "\n",
    "def selector_func(messages : Sequence[BaseAgentEvent | BaseChatMessage]) -> str | None:\n",
    "    if(messages[-1].source != planning_agent.name):\n",
    "        return planning_agent.name\n",
    "    return None"
   ]
  },
  {
   "cell_type": "code",
   "execution_count": 14,
   "id": "629486bc",
   "metadata": {},
   "outputs": [],
   "source": [
    "await selector_team.reset()\n",
    "selector_team = SelectorGroupChat(\n",
    "    participants=[planning_agent, web_search_agent, data_analyst_agent],\n",
    "    model_client=model_client,\n",
    "    termination_condition=combined_termination,\n",
    "    selector_prompt=selector_prompt,\n",
    "    allow_repeated_speaker=True,\n",
    "    selector_func=selector_func)"
   ]
  },
  {
   "cell_type": "code",
   "execution_count": 15,
   "id": "b87ecb66",
   "metadata": {},
   "outputs": [
    {
     "name": "stdout",
     "output_type": "stream",
     "text": [
      "---------- TextMessage (user) ----------\n",
      "Who was the Miami Heat player with the highest point in the 2006-2007 season, and what was the percentage change in his total rebounds between the 2007-2008 and 2008-2009 seasons?\n",
      "---------- TextMessage (PlanningAgent) ----------\n",
      "To find out who was the Miami Heat player with the highest points in the 2006-2007 season and the percentage change in his total rebounds between the 2007-2008 and 2008-2009 seasons, we need to follow these steps:\n",
      "\n",
      "1. Identify the Miami Heat player with the highest points in the 2006-2007 season.\n",
      "2. Collect the data on his total rebounds for both the 2007-2008 and 2008-2009 seasons.\n",
      "3. Calculate the percentage change in his total rebounds between these two seasons.\n",
      "\n",
      "Here are the tasked steps:\n",
      "\n",
      "1. WebSearchAgent: Identify the Miami Heat player with the highest points scored in the 2006-2007 NBA season.\n",
      "2. WebSearchAgent: Find the total rebounds for that player in the 2007-2008 NBA season.\n",
      "3. WebSearchAgent: Find the total rebounds for that player in the 2008-2009 NBA season.\n",
      "4. DataAnalystAgent: Calculate the percentage change in the player's total rebounds from the 2007-2008 season to the 2008-2009 season.\n",
      "---------- ToolCallRequestEvent (WebSearchAgent) ----------\n",
      "[FunctionCall(id='call_bjQTjvFktzVej66uT2slQDEU', arguments='{\"query\":\"Miami Heat player with highest points 2006-2007 season\"}', name='search_web_tool')]\n",
      "---------- ToolCallExecutionEvent (WebSearchAgent) ----------\n",
      "[FunctionExecutionResult(content='Here are the total points scored by Miami Heat players in the 2006-2007 season:\\n        Udonis Haslem: 844 points\\n        Dwayne Wade: 1397 points\\n        James Posey: 550 points\\n        ...\\n        ', name='search_web_tool', call_id='call_bjQTjvFktzVej66uT2slQDEU', is_error=False)]\n",
      "---------- ToolCallSummaryMessage (WebSearchAgent) ----------\n",
      "Here are the total points scored by Miami Heat players in the 2006-2007 season:\n",
      "        Udonis Haslem: 844 points\n",
      "        Dwayne Wade: 1397 points\n",
      "        James Posey: 550 points\n",
      "        ...\n",
      "        \n",
      "---------- TextMessage (PlanningAgent) ----------\n",
      "Based on the information provided, Dwyane Wade was the Miami Heat player with the highest points in the 2006-2007 NBA season with 1,397 points.\n",
      "\n",
      "Now we need to proceed with the following tasks:\n",
      "\n",
      "1. WebSearchAgent: Find the total rebounds for Dwyane Wade in the 2007-2008 NBA season.\n",
      "2. WebSearchAgent: Find the total rebounds for Dwyane Wade in the 2008-2009 NBA season.\n",
      "3. DataAnalystAgent: Calculate the percentage change in Dwyane Wade's total rebounds from the 2007-2008 season to the 2008-2009 season.\n",
      "---------- ToolCallRequestEvent (WebSearchAgent) ----------\n",
      "[FunctionCall(id='call_9aX3NtoVv2JZpZ0hmLsnilG4', arguments='{\"query\": \"Dwyane Wade total rebounds 2007-2008 season\"}', name='search_web_tool'), FunctionCall(id='call_OVUvCWvWC1JvpmyzVzX7s1IM', arguments='{\"query\": \"Dwyane Wade total rebounds 2008-2009 season\"}', name='search_web_tool')]\n",
      "---------- ToolCallExecutionEvent (WebSearchAgent) ----------\n",
      "[FunctionExecutionResult(content='The number of total rebounds for Dwayne Wade in the Miami Heat season 2007-2008 is 214.', name='search_web_tool', call_id='call_9aX3NtoVv2JZpZ0hmLsnilG4', is_error=False), FunctionExecutionResult(content='The number of total rebounds for Dwayne Wade in the Miami Heat season 2008-2009 is 398.', name='search_web_tool', call_id='call_OVUvCWvWC1JvpmyzVzX7s1IM', is_error=False)]\n",
      "---------- ToolCallSummaryMessage (WebSearchAgent) ----------\n",
      "The number of total rebounds for Dwayne Wade in the Miami Heat season 2007-2008 is 214.\n",
      "The number of total rebounds for Dwayne Wade in the Miami Heat season 2008-2009 is 398.\n",
      "---------- TextMessage (PlanningAgent) ----------\n",
      "Now that we have the total rebounds data for Dwyane Wade for both the 2007-2008 and 2008-2009 seasons, we can proceed to calculate the percentage change in his total rebounds:\n",
      "\n",
      "1. DataAnalystAgent: Calculate the percentage change in Dwyane Wade's total rebounds from 214 in the 2007-2008 season to 398 in the 2008-2009 season.\n",
      "---------- ToolCallRequestEvent (DataAnalystAgent) ----------\n",
      "[FunctionCall(id='call_vW6ZsbajJrs3ZWGPyuxFperh', arguments='{\"start\":214,\"end\":398}', name='percentage_change_tool')]\n",
      "---------- ToolCallExecutionEvent (DataAnalystAgent) ----------\n",
      "[FunctionExecutionResult(content='85.98130841121495', name='percentage_change_tool', call_id='call_vW6ZsbajJrs3ZWGPyuxFperh', is_error=False)]\n",
      "---------- ToolCallSummaryMessage (DataAnalystAgent) ----------\n",
      "85.98130841121495\n",
      "---------- TextMessage (PlanningAgent) ----------\n",
      "The percentage change in Dwyane Wade's total rebounds from the 2007-2008 season to the 2008-2009 season is approximately 86.0%.\n",
      "\n",
      "Summary:\n",
      "- The Miami Heat player with the highest points in the 2006-2007 season was Dwyane Wade, with 1,397 points.\n",
      "- Dwyane Wade's total rebounds were 214 in the 2007-2008 season and 398 in the 2008-2009 season.\n",
      "- The percentage change in his total rebounds between these two seasons was approximately 86.0%.\n",
      "\n",
      "TERMINATE\n"
     ]
    },
    {
     "data": {
      "text/plain": [
       "TaskResult(messages=[TextMessage(id='f6a1573b-c77e-4765-8aea-61c1d05715e7', source='user', models_usage=None, metadata={}, created_at=datetime.datetime(2025, 8, 2, 9, 45, 15, 533457, tzinfo=datetime.timezone.utc), content='Who was the Miami Heat player with the highest point in the 2006-2007 season, and what was the percentage change in his total rebounds between the 2007-2008 and 2008-2009 seasons?', type='TextMessage'), TextMessage(id='c8a667e0-a0f8-4c2d-9ef7-a758e0456620', source='PlanningAgent', models_usage=RequestUsage(prompt_tokens=165, completion_tokens=233), metadata={}, created_at=datetime.datetime(2025, 8, 2, 9, 45, 20, 817626, tzinfo=datetime.timezone.utc), content=\"To find out who was the Miami Heat player with the highest points in the 2006-2007 season and the percentage change in his total rebounds between the 2007-2008 and 2008-2009 seasons, we need to follow these steps:\\n\\n1. Identify the Miami Heat player with the highest points in the 2006-2007 season.\\n2. Collect the data on his total rebounds for both the 2007-2008 and 2008-2009 seasons.\\n3. Calculate the percentage change in his total rebounds between these two seasons.\\n\\nHere are the tasked steps:\\n\\n1. WebSearchAgent: Identify the Miami Heat player with the highest points scored in the 2006-2007 NBA season.\\n2. WebSearchAgent: Find the total rebounds for that player in the 2007-2008 NBA season.\\n3. WebSearchAgent: Find the total rebounds for that player in the 2008-2009 NBA season.\\n4. DataAnalystAgent: Calculate the percentage change in the player's total rebounds from the 2007-2008 season to the 2008-2009 season.\", type='TextMessage'), ToolCallRequestEvent(id='aa79e74a-8af8-4cc5-9e2f-c1579dce2e47', source='WebSearchAgent', models_usage=RequestUsage(prompt_tokens=388, completion_tokens=27), metadata={}, created_at=datetime.datetime(2025, 8, 2, 9, 45, 22, 866181, tzinfo=datetime.timezone.utc), content=[FunctionCall(id='call_bjQTjvFktzVej66uT2slQDEU', arguments='{\"query\":\"Miami Heat player with highest points 2006-2007 season\"}', name='search_web_tool')], type='ToolCallRequestEvent'), ToolCallExecutionEvent(id='429cd9f5-2c14-490f-b31d-47c7263027f6', source='WebSearchAgent', models_usage=None, metadata={}, created_at=datetime.datetime(2025, 8, 2, 9, 45, 22, 871868, tzinfo=datetime.timezone.utc), content=[FunctionExecutionResult(content='Here are the total points scored by Miami Heat players in the 2006-2007 season:\\n        Udonis Haslem: 844 points\\n        Dwayne Wade: 1397 points\\n        James Posey: 550 points\\n        ...\\n        ', name='search_web_tool', call_id='call_bjQTjvFktzVej66uT2slQDEU', is_error=False)], type='ToolCallExecutionEvent'), ToolCallSummaryMessage(id='2b189d76-b177-4f77-bd5a-ac87f8aed2da', source='WebSearchAgent', models_usage=None, metadata={}, created_at=datetime.datetime(2025, 8, 2, 9, 45, 22, 872584, tzinfo=datetime.timezone.utc), content='Here are the total points scored by Miami Heat players in the 2006-2007 season:\\n        Udonis Haslem: 844 points\\n        Dwayne Wade: 1397 points\\n        James Posey: 550 points\\n        ...\\n        ', type='ToolCallSummaryMessage', tool_calls=[FunctionCall(id='call_bjQTjvFktzVej66uT2slQDEU', arguments='{\"query\":\"Miami Heat player with highest points 2006-2007 season\"}', name='search_web_tool')], results=[FunctionExecutionResult(content='Here are the total points scored by Miami Heat players in the 2006-2007 season:\\n        Udonis Haslem: 844 points\\n        Dwayne Wade: 1397 points\\n        James Posey: 550 points\\n        ...\\n        ', name='search_web_tool', call_id='call_bjQTjvFktzVej66uT2slQDEU', is_error=False)]), TextMessage(id='7faf7699-a2c1-4a55-b625-68294c6d7cec', source='PlanningAgent', models_usage=RequestUsage(prompt_tokens=463, completion_tokens=136), metadata={}, created_at=datetime.datetime(2025, 8, 2, 9, 45, 26, 274027, tzinfo=datetime.timezone.utc), content=\"Based on the information provided, Dwyane Wade was the Miami Heat player with the highest points in the 2006-2007 NBA season with 1,397 points.\\n\\nNow we need to proceed with the following tasks:\\n\\n1. WebSearchAgent: Find the total rebounds for Dwyane Wade in the 2007-2008 NBA season.\\n2. WebSearchAgent: Find the total rebounds for Dwyane Wade in the 2008-2009 NBA season.\\n3. DataAnalystAgent: Calculate the percentage change in Dwyane Wade's total rebounds from the 2007-2008 season to the 2008-2009 season.\", type='TextMessage'), ToolCallRequestEvent(id='68f5c6e7-98c1-487c-903d-c86d602600c1', source='WebSearchAgent', models_usage=RequestUsage(prompt_tokens=620, completion_tokens=70), metadata={}, created_at=datetime.datetime(2025, 8, 2, 9, 45, 29, 15639, tzinfo=datetime.timezone.utc), content=[FunctionCall(id='call_9aX3NtoVv2JZpZ0hmLsnilG4', arguments='{\"query\": \"Dwyane Wade total rebounds 2007-2008 season\"}', name='search_web_tool'), FunctionCall(id='call_OVUvCWvWC1JvpmyzVzX7s1IM', arguments='{\"query\": \"Dwyane Wade total rebounds 2008-2009 season\"}', name='search_web_tool')], type='ToolCallRequestEvent'), ToolCallExecutionEvent(id='eafbb26a-745a-4762-9210-da7f774726cb', source='WebSearchAgent', models_usage=None, metadata={}, created_at=datetime.datetime(2025, 8, 2, 9, 45, 29, 21069, tzinfo=datetime.timezone.utc), content=[FunctionExecutionResult(content='The number of total rebounds for Dwayne Wade in the Miami Heat season 2007-2008 is 214.', name='search_web_tool', call_id='call_9aX3NtoVv2JZpZ0hmLsnilG4', is_error=False), FunctionExecutionResult(content='The number of total rebounds for Dwayne Wade in the Miami Heat season 2008-2009 is 398.', name='search_web_tool', call_id='call_OVUvCWvWC1JvpmyzVzX7s1IM', is_error=False)], type='ToolCallExecutionEvent'), ToolCallSummaryMessage(id='a3941810-5be8-41bc-8f33-284c331ec2d2', source='WebSearchAgent', models_usage=None, metadata={}, created_at=datetime.datetime(2025, 8, 2, 9, 45, 29, 21495, tzinfo=datetime.timezone.utc), content='The number of total rebounds for Dwayne Wade in the Miami Heat season 2007-2008 is 214.\\nThe number of total rebounds for Dwayne Wade in the Miami Heat season 2008-2009 is 398.', type='ToolCallSummaryMessage', tool_calls=[FunctionCall(id='call_9aX3NtoVv2JZpZ0hmLsnilG4', arguments='{\"query\": \"Dwyane Wade total rebounds 2007-2008 season\"}', name='search_web_tool'), FunctionCall(id='call_OVUvCWvWC1JvpmyzVzX7s1IM', arguments='{\"query\": \"Dwyane Wade total rebounds 2008-2009 season\"}', name='search_web_tool')], results=[FunctionExecutionResult(content='The number of total rebounds for Dwayne Wade in the Miami Heat season 2007-2008 is 214.', name='search_web_tool', call_id='call_9aX3NtoVv2JZpZ0hmLsnilG4', is_error=False), FunctionExecutionResult(content='The number of total rebounds for Dwayne Wade in the Miami Heat season 2008-2009 is 398.', name='search_web_tool', call_id='call_OVUvCWvWC1JvpmyzVzX7s1IM', is_error=False)]), TextMessage(id='02ec8a6f-f945-42fa-9868-8690ba0de0b9', source='PlanningAgent', models_usage=RequestUsage(prompt_tokens=659, completion_tokens=88), metadata={}, created_at=datetime.datetime(2025, 8, 2, 9, 45, 31, 875178, tzinfo=datetime.timezone.utc), content=\"Now that we have the total rebounds data for Dwyane Wade for both the 2007-2008 and 2008-2009 seasons, we can proceed to calculate the percentage change in his total rebounds:\\n\\n1. DataAnalystAgent: Calculate the percentage change in Dwyane Wade's total rebounds from 214 in the 2007-2008 season to 398 in the 2008-2009 season.\", type='TextMessage'), ToolCallRequestEvent(id='c34327c9-29c5-4189-9c1d-fa50b1eb6af8', source='DataAnalystAgent', models_usage=RequestUsage(prompt_tokens=741, completion_tokens=20), metadata={}, created_at=datetime.datetime(2025, 8, 2, 9, 45, 33, 922775, tzinfo=datetime.timezone.utc), content=[FunctionCall(id='call_vW6ZsbajJrs3ZWGPyuxFperh', arguments='{\"start\":214,\"end\":398}', name='percentage_change_tool')], type='ToolCallRequestEvent'), ToolCallExecutionEvent(id='567f5f31-a42d-4196-84f4-39b21b4336d8', source='DataAnalystAgent', models_usage=None, metadata={}, created_at=datetime.datetime(2025, 8, 2, 9, 45, 33, 926908, tzinfo=datetime.timezone.utc), content=[FunctionExecutionResult(content='85.98130841121495', name='percentage_change_tool', call_id='call_vW6ZsbajJrs3ZWGPyuxFperh', is_error=False)], type='ToolCallExecutionEvent'), ToolCallSummaryMessage(id='fe2711ff-9e5a-40cc-870d-71994458d520', source='DataAnalystAgent', models_usage=None, metadata={}, created_at=datetime.datetime(2025, 8, 2, 9, 45, 33, 927827, tzinfo=datetime.timezone.utc), content='85.98130841121495', type='ToolCallSummaryMessage', tool_calls=[FunctionCall(id='call_vW6ZsbajJrs3ZWGPyuxFperh', arguments='{\"start\":214,\"end\":398}', name='percentage_change_tool')], results=[FunctionExecutionResult(content='85.98130841121495', name='percentage_change_tool', call_id='call_vW6ZsbajJrs3ZWGPyuxFperh', is_error=False)]), TextMessage(id='7097a7e4-c48a-48d4-8427-f2d331a93d2c', source='PlanningAgent', models_usage=RequestUsage(prompt_tokens=767, completion_tokens=124), metadata={}, created_at=datetime.datetime(2025, 8, 2, 9, 45, 36, 998833, tzinfo=datetime.timezone.utc), content=\"The percentage change in Dwyane Wade's total rebounds from the 2007-2008 season to the 2008-2009 season is approximately 86.0%.\\n\\nSummary:\\n- The Miami Heat player with the highest points in the 2006-2007 season was Dwyane Wade, with 1,397 points.\\n- Dwyane Wade's total rebounds were 214 in the 2007-2008 season and 398 in the 2008-2009 season.\\n- The percentage change in his total rebounds between these two seasons was approximately 86.0%.\\n\\nTERMINATE\", type='TextMessage')], stop_reason=\"Text 'TERMINATE' mentioned\")"
      ]
     },
     "execution_count": 15,
     "metadata": {},
     "output_type": "execute_result"
    }
   ],
   "source": [
    "from autogen_agentchat.ui import Console\n",
    "\n",
    "await Console(selector_team.run_stream(task=task))"
   ]
  }
 ],
 "metadata": {
  "kernelspec": {
   "display_name": "myenv",
   "language": "python",
   "name": "python3"
  },
  "language_info": {
   "codemirror_mode": {
    "name": "ipython",
    "version": 3
   },
   "file_extension": ".py",
   "mimetype": "text/x-python",
   "name": "python",
   "nbconvert_exporter": "python",
   "pygments_lexer": "ipython3",
   "version": "3.13.5"
  }
 },
 "nbformat": 4,
 "nbformat_minor": 5
}
