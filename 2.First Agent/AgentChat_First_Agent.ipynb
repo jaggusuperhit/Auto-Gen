{
 "cells": [
  {
   "cell_type": "markdown",
   "metadata": {},
   "source": [
    "# Introduction to AgentChat API with First AssistantAgent  \n",
    "We’ll use the AgentChat API to create a simple `AssistantAgent` and explore its capabilities.  "
   ]
  },
  {
   "cell_type": "code",
   "execution_count": 1,
   "metadata": {},
   "outputs": [],
   "source": [
    "from autogen_agentchat.agents import AssistantAgent\n",
    "from autogen_ext.models.openai import OpenAIChatCompletionClient\n",
    "from dotenv import load_dotenv\n",
    "import os\n",
    "\n",
    "load_dotenv()\n",
    "api_key = os.getenv('OPENAI_API_KEY')"
   ]
  },
  {
   "cell_type": "code",
   "execution_count": 2,
   "metadata": {},
   "outputs": [],
   "source": [
    "model_client = OpenAIChatCompletionClient(model = 'gpt-4o',api_key=api_key)"
   ]
  },
  {
   "cell_type": "markdown",
   "metadata": {},
   "source": [
    "## Creating Our First AssistantAgent  \n",
    "The `AssistantAgent` is a versatile agent for conversations, powered by AgentChat.  "
   ]
  },
  {
   "cell_type": "code",
   "execution_count": 3,
   "metadata": {},
   "outputs": [],
   "source": [
    "assistant = AssistantAgent(name = \"assistant\",model_client=model_client,description='A Basic first Agent')"
   ]
  },
  {
   "cell_type": "markdown",
   "metadata": {},
   "source": [
    "## Testing the AssistantAgent  \n",
    "We’ll use the `run` method to send a task and get a response.  "
   ]
  },
  {
   "cell_type": "code",
   "execution_count": 4,
   "metadata": {},
   "outputs": [
    {
     "name": "stdout",
     "output_type": "stream",
     "text": [
      "messages=[TextMessage(source='user', models_usage=None, metadata={}, content=\"What's the capital of USA & write some more about the same ?\", type='TextMessage'), TextMessage(source='assistant', models_usage=RequestUsage(prompt_tokens=49, completion_tokens=343), metadata={}, content='The capital of the United States is Washington, D.C. Here\\'s some more information about it:\\n\\n1. **Location**: Washington, D.C., is located on the east coast of the United States along the Potomac River, bordered by the states of Maryland and Virginia. It is distinct from Washington State, which is located on the west coast.\\n\\n2. **History**: The city was founded on July 16, 1790, and serves as the seat of the federal government of the United States. It was named after George Washington, the first President of the United States. \"D.C.\" stands for the District of Columbia, a federal district that is not part of any state.\\n\\n3. **Government**: As the nation\\'s capital, Washington, D.C., hosts the three branches of the U.S. federal government: the Executive (The White House), the Legislative (U.S. Capitol), and the Judiciary (The Supreme Court).\\n\\n4. **Population and Demographics**: As of the last census, Washington, D.C., has a diverse population of over 700,000 residents. It serves as a cultural and political hub, attracting people from across the nation and the world.\\n\\n5. **Landmarks and Attractions**: D.C. is famous for its historical landmarks and museums, including the National Mall, the Lincoln Memorial, the Washington Monument, the Smithsonian Institution, and more.\\n\\n6. **Economy**: Its economy is driven by the federal government, along with sectors such as education, public policy, and tourism.\\n\\nWashington, D.C., plays a central role in international diplomacy and is home to many international organizations, embassies, and think tanks.\\nTERMINATE', type='TextMessage')] stop_reason=None\n"
     ]
    }
   ],
   "source": [
    "result = await assistant.run(task=\"What's the capital of USA & write some more about the same ?\")\n",
    "\n",
    "print(result)"
   ]
  },
  {
   "cell_type": "markdown",
   "metadata": {},
   "source": [
    "messages=[TextMessage(source='user', models_usage=None, metadata={}, created_at=datetime.datetime(2025, 6, 18, 21, 11, 31, 850662, tzinfo=datetime.timezone.utc), content=\"What's the capital of France ?\", type='TextMessage'), TextMessage(source='assistant', models_usage=RequestUsage(prompt_tokens=42, completion_tokens=9), metadata={}, created_at=datetime.datetime(2025, 6, 18, 21, 11, 32, 966650, tzinfo=datetime.timezone.utc), content='The capital of France is Paris. TERMINATE', type='TextMessage')] stop_reason=None"
   ]
  },
  {
   "cell_type": "code",
   "execution_count": 5,
   "metadata": {},
   "outputs": [
    {
     "name": "stdout",
     "output_type": "stream",
     "text": [
      "[TextMessage(source='user', models_usage=None, metadata={}, content=\"What's the capital of USA & write some more about the same ?\", type='TextMessage'), TextMessage(source='assistant', models_usage=RequestUsage(prompt_tokens=49, completion_tokens=343), metadata={}, content='The capital of the United States is Washington, D.C. Here\\'s some more information about it:\\n\\n1. **Location**: Washington, D.C., is located on the east coast of the United States along the Potomac River, bordered by the states of Maryland and Virginia. It is distinct from Washington State, which is located on the west coast.\\n\\n2. **History**: The city was founded on July 16, 1790, and serves as the seat of the federal government of the United States. It was named after George Washington, the first President of the United States. \"D.C.\" stands for the District of Columbia, a federal district that is not part of any state.\\n\\n3. **Government**: As the nation\\'s capital, Washington, D.C., hosts the three branches of the U.S. federal government: the Executive (The White House), the Legislative (U.S. Capitol), and the Judiciary (The Supreme Court).\\n\\n4. **Population and Demographics**: As of the last census, Washington, D.C., has a diverse population of over 700,000 residents. It serves as a cultural and political hub, attracting people from across the nation and the world.\\n\\n5. **Landmarks and Attractions**: D.C. is famous for its historical landmarks and museums, including the National Mall, the Lincoln Memorial, the Washington Monument, the Smithsonian Institution, and more.\\n\\n6. **Economy**: Its economy is driven by the federal government, along with sectors such as education, public policy, and tourism.\\n\\nWashington, D.C., plays a central role in international diplomacy and is home to many international organizations, embassies, and think tanks.\\nTERMINATE', type='TextMessage')]\n"
     ]
    }
   ],
   "source": [
    "print(result.messages)"
   ]
  },
  {
   "cell_type": "code",
   "execution_count": 6,
   "metadata": {},
   "outputs": [
    {
     "name": "stdout",
     "output_type": "stream",
     "text": [
      "The capital of the United States is Washington, D.C. Here's some more information about it:\n",
      "\n",
      "1. **Location**: Washington, D.C., is located on the east coast of the United States along the Potomac River, bordered by the states of Maryland and Virginia. It is distinct from Washington State, which is located on the west coast.\n",
      "\n",
      "2. **History**: The city was founded on July 16, 1790, and serves as the seat of the federal government of the United States. It was named after George Washington, the first President of the United States. \"D.C.\" stands for the District of Columbia, a federal district that is not part of any state.\n",
      "\n",
      "3. **Government**: As the nation's capital, Washington, D.C., hosts the three branches of the U.S. federal government: the Executive (The White House), the Legislative (U.S. Capitol), and the Judiciary (The Supreme Court).\n",
      "\n",
      "4. **Population and Demographics**: As of the last census, Washington, D.C., has a diverse population of over 700,000 residents. It serves as a cultural and political hub, attracting people from across the nation and the world.\n",
      "\n",
      "5. **Landmarks and Attractions**: D.C. is famous for its historical landmarks and museums, including the National Mall, the Lincoln Memorial, the Washington Monument, the Smithsonian Institution, and more.\n",
      "\n",
      "6. **Economy**: Its economy is driven by the federal government, along with sectors such as education, public policy, and tourism.\n",
      "\n",
      "Washington, D.C., plays a central role in international diplomacy and is home to many international organizations, embassies, and think tanks.\n",
      "TERMINATE\n"
     ]
    }
   ],
   "source": [
    "print(result.messages[-1].content)"
   ]
  },
  {
   "cell_type": "code",
   "execution_count": 7,
   "metadata": {},
   "outputs": [
    {
     "name": "stdout",
     "output_type": "stream",
     "text": [
      "messages=[TextMessage(source='user', models_usage=None, metadata={}, content=\"What's the capital of USA & write some more about the same ?\", type='TextMessage'), TextMessage(source='assistant', models_usage=RequestUsage(prompt_tokens=414, completion_tokens=343), metadata={}, content='The capital of the United States is Washington, D.C. Here\\'s some more information about it:\\n\\n1. **Location**: Washington, D.C., is located on the east coast of the United States along the Potomac River, bordered by the states of Maryland and Virginia. It is distinct from Washington State, which is located on the west coast.\\n\\n2. **History**: The city was founded on July 16, 1790, and serves as the seat of the federal government of the United States. It was named after George Washington, the first President of the United States. \"D.C.\" stands for the District of Columbia, a federal district that is not part of any state.\\n\\n3. **Government**: As the nation\\'s capital, Washington, D.C., hosts the three branches of the U.S. federal government: the Executive (The White House), the Legislative (U.S. Capitol), and the Judiciary (The Supreme Court).\\n\\n4. **Population and Demographics**: As of the last census, Washington, D.C., has a diverse population of over 700,000 residents. It serves as a cultural and political hub, attracting people from across the nation and the world.\\n\\n5. **Landmarks and Attractions**: D.C. is famous for its historical landmarks and museums, including the National Mall, the Lincoln Memorial, the Washington Monument, the Smithsonian Institution, and more.\\n\\n6. **Economy**: Its economy is driven by the federal government, along with sectors such as education, public policy, and tourism.\\n\\nWashington, D.C., plays a central role in international diplomacy and is home to many international organizations, embassies, and think tanks.\\nTERMINATE', type='TextMessage')] stop_reason=None\n"
     ]
    }
   ],
   "source": [
    "result = await assistant.run(task=\"What's the capital of USA & write some more about the same ?\")\n",
    "\n",
    "print(result)"
   ]
  },
  {
   "cell_type": "markdown",
   "metadata": {},
   "source": [
    "messages=[TextMessage(source='user', models_usage=None, metadata={}, created_at=datetime.datetime(2025, 6, 18, 21, 14, 38, 430090, tzinfo=datetime.timezone.utc), content=\"What's the capital of USA & write some more about the same ?\", type='TextMessage'), TextMessage(source='assistant', models_usage=RequestUsage(prompt_tokens=73, completion_tokens=393), metadata={}, created_at=datetime.datetime(2025, 6, 18, 21, 14, 45, 842318, tzinfo=datetime.timezone.utc), content=\"The capital of the United States is Washington, D.C.\\n\\n### Washington, D.C.\\n- **Location:** Washington, D.C. is located on the east coast of the United States along the Potomac River, bordering the states of Virginia and Maryland.\\n  \\n- **History:** The Residence Act of 1790 approved the creation of a capital district located along the Potomac River. Washington, D.C. was named after George Washington, the first President of the United States, and Christopher Columbus.\\n\\n- **Government:** As the nation's capital, Washington, D.C. is the seat of the U.S. federal government. It houses the three branches of the federal government:\\n  - The **Executive Branch**, led by the President, who resides in the White House.\\n  - The **Legislative Branch**, with the two houses of Congress— the Senate and the House of Representatives— meeting at the U.S. Capitol.\\n  - The **Judicial Branch**, with the Supreme Court of the United States, the highest court in the country.\\n\\n- **Landmarks:** Washington, D.C. is well-known for its historic landmarks and monuments, including the Washington Monument, Lincoln Memorial, Jefferson Memorial, and the United States Capitol. It is also home to numerous museums, particularly those of the Smithsonian Institution.\\n\\n- **Economy and Culture:** The city's economy is driven largely by the federal government, but it also has a growing tourism industry, with millions of visitors each year. Additionally, Washington, D.C. has a vibrant cultural scene characterized by theaters, music venues, and a diverse population.\\n\\n- **Education:** The city is home to several major universities, including Georgetown University, George Washington University, and American University.\\n\\nDespite being the capital, Washington, D.C. is not part of any state and operates as a separate federal district. Residents of D.C. have a unique political status, with limited self-governance and representation in Congress. TERMINATE\", type='TextMessage')] stop_reason=None"
   ]
  },
  {
   "cell_type": "code",
   "execution_count": 8,
   "metadata": {},
   "outputs": [
    {
     "name": "stdout",
     "output_type": "stream",
     "text": [
      "The capital of the United States is Washington, D.C. Here's some more information about it:\n",
      "\n",
      "1. **Location**: Washington, D.C., is located on the east coast of the United States along the Potomac River, bordered by the states of Maryland and Virginia. It is distinct from Washington State, which is located on the west coast.\n",
      "\n",
      "2. **History**: The city was founded on July 16, 1790, and serves as the seat of the federal government of the United States. It was named after George Washington, the first President of the United States. \"D.C.\" stands for the District of Columbia, a federal district that is not part of any state.\n",
      "\n",
      "3. **Government**: As the nation's capital, Washington, D.C., hosts the three branches of the U.S. federal government: the Executive (The White House), the Legislative (U.S. Capitol), and the Judiciary (The Supreme Court).\n",
      "\n",
      "4. **Population and Demographics**: As of the last census, Washington, D.C., has a diverse population of over 700,000 residents. It serves as a cultural and political hub, attracting people from across the nation and the world.\n",
      "\n",
      "5. **Landmarks and Attractions**: D.C. is famous for its historical landmarks and museums, including the National Mall, the Lincoln Memorial, the Washington Monument, the Smithsonian Institution, and more.\n",
      "\n",
      "6. **Economy**: Its economy is driven by the federal government, along with sectors such as education, public policy, and tourism.\n",
      "\n",
      "Washington, D.C., plays a central role in international diplomacy and is home to many international organizations, embassies, and think tanks.\n",
      "TERMINATE\n"
     ]
    }
   ],
   "source": [
    "print(result.messages[-1].content)"
   ]
  }
 ],
 "metadata": {
  "kernelspec": {
   "display_name": "myenv",
   "language": "python",
   "name": "python3"
  },
  "language_info": {
   "codemirror_mode": {
    "name": "ipython",
    "version": 3
   },
   "file_extension": ".py",
   "mimetype": "text/x-python",
   "name": "python",
   "nbconvert_exporter": "python",
   "pygments_lexer": "ipython3",
   "version": "3.13.5"
  }
 },
 "nbformat": 4,
 "nbformat_minor": 2
}
