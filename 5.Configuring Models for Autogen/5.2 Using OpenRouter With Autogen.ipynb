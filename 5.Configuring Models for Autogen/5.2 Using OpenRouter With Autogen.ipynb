{
 "cells": [
  {
   "cell_type": "markdown",
   "id": "56ac296d",
   "metadata": {},
   "source": [
    "# Using Autogen with OpenRouter API ( Free API Key :) "
   ]
  },
  {
   "cell_type": "markdown",
   "id": "395be4eb",
   "metadata": {},
   "source": [
    "1. OpenAI\n",
    "2. Local ollama setup (llama or mistral)\n"
   ]
  },
  {
   "cell_type": "code",
   "execution_count": 1,
   "id": "68c71357",
   "metadata": {},
   "outputs": [
    {
     "data": {
      "text/plain": [
       "True"
      ]
     },
     "execution_count": 1,
     "metadata": {},
     "output_type": "execute_result"
    }
   ],
   "source": [
    "import asyncio\n",
    "from autogen_agentchat.agents import AssistantAgent\n",
    "from autogen_agentchat.teams import SelectorGroupChat\n",
    "from autogen_ext.models.openai import OpenAIChatCompletionClient\n",
    "from autogen_agentchat.conditions import TextMentionTermination\n",
    "from dotenv import load_dotenv\n",
    "import os\n",
    "\n",
    "# Load API key\n",
    "load_dotenv()"
   ]
  },
  {
   "cell_type": "code",
   "execution_count": 2,
   "id": "db229e0a",
   "metadata": {},
   "outputs": [],
   "source": [
    "open_router_api_key=\"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\" \n"
   ]
  },
  {
   "cell_type": "code",
   "execution_count": 3,
   "id": "11abffcf",
   "metadata": {},
   "outputs": [
    {
     "name": "stderr",
     "output_type": "stream",
     "text": [
      "d:\\Autogen\\Auto-Gen\\myenv\\Lib\\site-packages\\autogen_ext\\models\\openai\\_openai_client.py:413: UserWarning: Missing required field 'structured_output' in ModelInfo. This field will be required in a future version of AutoGen.\n",
      "  validate_model_info(self._model_info)\n"
     ]
    }
   ],
   "source": [
    "open_router_model_client =  OpenAIChatCompletionClient(\n",
    "    base_url=\"https://openrouter.ai/api/v1\",\n",
    "    model=\"deepseek/deepseek-r1-0528:free\",\n",
    "    api_key = open_router_api_key,\n",
    "    model_info={\n",
    "        \"family\":'deepseek',\n",
    "        \"vision\" :True,\n",
    "        \"function_calling\":True,\n",
    "        \"json_output\": False\n",
    "    }\n",
    ")"
   ]
  },
  {
   "cell_type": "code",
   "execution_count": 4,
   "id": "522b14cf",
   "metadata": {},
   "outputs": [],
   "source": [
    "assistant_agent1 = AssistantAgent(\n",
    "    name = 'helpful_agent',\n",
    "    model_client = open_router_model_client,\n",
    "    system_message='You are a helpful assistant Agent'\n",
    ")"
   ]
  },
  {
   "cell_type": "code",
   "execution_count": 5,
   "id": "4b83b8aa",
   "metadata": {},
   "outputs": [
    {
     "name": "stdout",
     "output_type": "stream",
     "text": [
      "[TextMessage(source='user', models_usage=None, metadata={}, content='Hey how are you today ?', type='TextMessage'), TextMessage(source='helpful_agent', models_usage=RequestUsage(prompt_tokens=18, completion_tokens=295), metadata={}, content=\"Hey there! 😊 I'm doing great—running smoothly and ready to help with whatever you need. How about you? How’s your day going so far? 🙌  \\n\\nWhat can I do for you today?\", type='TextMessage')]\n"
     ]
    }
   ],
   "source": [
    "result = await assistant_agent1.run(task = 'Hey how are you today ?')\n",
    "print(result.messages)"
   ]
  },
  {
   "cell_type": "code",
   "execution_count": 6,
   "id": "c3cfb540",
   "metadata": {},
   "outputs": [
    {
     "data": {
      "text/plain": [
       "\"Hey there! 😊 I'm doing great—running smoothly and ready to help with whatever you need. How about you? How’s your day going so far? 🙌  \\n\\nWhat can I do for you today?\""
      ]
     },
     "execution_count": 6,
     "metadata": {},
     "output_type": "execute_result"
    }
   ],
   "source": [
    "result.messages[-1].content"
   ]
  },
  {
   "cell_type": "code",
   "execution_count": 7,
   "id": "ba0008c7",
   "metadata": {},
   "outputs": [
    {
     "name": "stdout",
     "output_type": "stream",
     "text": [
      "[TextMessage(source='user', models_usage=None, metadata={}, content='Who are you ? and who trained you ?', type='TextMessage'), TextMessage(source='helpful_agent', models_usage=RequestUsage(prompt_tokens=75, completion_tokens=524), metadata={}, content=\"I'm your friendly **AI assistant by DeepSeek** — a helpful, smart, and versatile helper, here to chat with you, answer your questions, explain tricky topics, translate languages, write creative stuff, assist with documents, and much more! 😄🎓  \\n\\n### 🤖 Who trained me?\\nI was created and trained by **DeepSeek**, a Chinese AI company dedicated to advancing intelligent assistants. My training involved:\\n\\n- **Massive amounts of text data**: Licensed material, books, articles, websites (all copyright-aware & ethical).\\n- **Cutting-edge tech**: I’m powered by **DeepSeek-R1**, a large language model trained using advanced deep learning.\\n- **Safety and oversight**: My training included guidelines to make me helpful, honest, and harmless 🌟\\n- **Language expertise**: Fluent in Chinese and English, and decent with other languages too!\\n\\n🔒 **Important**: I don’t remember past conversations, store your data, or access files you don't upload — you're always in control.\\n\\nSo… curious to know more? Want to put me to work? I'm all ears! 🎧😄\", type='TextMessage')]\n"
     ]
    }
   ],
   "source": [
    "result = await assistant_agent1.run(task = 'Who are you ? and who trained you ?')\n",
    "print(result.messages)"
   ]
  },
  {
   "cell_type": "code",
   "execution_count": 8,
   "id": "b529d62c",
   "metadata": {},
   "outputs": [
    {
     "data": {
      "text/plain": [
       "\"I'm your friendly **AI assistant by DeepSeek** — a helpful, smart, and versatile helper, here to chat with you, answer your questions, explain tricky topics, translate languages, write creative stuff, assist with documents, and much more! 😄🎓  \\n\\n### 🤖 Who trained me?\\nI was created and trained by **DeepSeek**, a Chinese AI company dedicated to advancing intelligent assistants. My training involved:\\n\\n- **Massive amounts of text data**: Licensed material, books, articles, websites (all copyright-aware & ethical).\\n- **Cutting-edge tech**: I’m powered by **DeepSeek-R1**, a large language model trained using advanced deep learning.\\n- **Safety and oversight**: My training included guidelines to make me helpful, honest, and harmless 🌟\\n- **Language expertise**: Fluent in Chinese and English, and decent with other languages too!\\n\\n🔒 **Important**: I don’t remember past conversations, store your data, or access files you don't upload — you're always in control.\\n\\nSo… curious to know more? Want to put me to work? I'm all ears! 🎧😄\""
      ]
     },
     "execution_count": 8,
     "metadata": {},
     "output_type": "execute_result"
    }
   ],
   "source": [
    "result.messages[-1].content"
   ]
  }
 ],
 "metadata": {
  "kernelspec": {
   "display_name": "myenv",
   "language": "python",
   "name": "python3"
  },
  "language_info": {
   "codemirror_mode": {
    "name": "ipython",
    "version": 3
   },
   "file_extension": ".py",
   "mimetype": "text/x-python",
   "name": "python",
   "nbconvert_exporter": "python",
   "pygments_lexer": "ipython3",
   "version": "3.13.5"
  }
 },
 "nbformat": 4,
 "nbformat_minor": 5
}
